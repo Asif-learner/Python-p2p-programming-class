{
 "cells": [
  {
   "cell_type": "code",
   "execution_count": 1,
   "id": "48123d0f",
   "metadata": {},
   "outputs": [
    {
     "name": "stdout",
     "output_type": "stream",
     "text": [
      "Enter a Number0\n",
      "ZERO\n"
     ]
    }
   ],
   "source": [
    "x = int(input(\"Enter a Number\"))\n",
    "\n",
    "dic1 = {0 : \"ZERO\", 1 : \"ONE\", 2 : \"TWO\", 3 : \"THREE\", 4 : \"FOUR\", 5 : \"FIVE\", 6 : \"SIX\", 7 : \"SEVEN\", 8 : \"EIGHT\", 9 : \"NINE\"}\n",
    "\n",
    "print(dic1.get(x))\n"
   ]
  },
  {
   "cell_type": "code",
   "execution_count": null,
   "id": "e4498725",
   "metadata": {},
   "outputs": [],
   "source": []
  },
  {
   "cell_type": "code",
   "execution_count": null,
   "id": "09066f4b",
   "metadata": {},
   "outputs": [],
   "source": []
  },
  {
   "cell_type": "code",
   "execution_count": null,
   "id": "8be2ff50",
   "metadata": {},
   "outputs": [],
   "source": []
  },
  {
   "cell_type": "code",
   "execution_count": null,
   "id": "32292280",
   "metadata": {},
   "outputs": [],
   "source": []
  }
 ],
 "metadata": {
  "kernelspec": {
   "display_name": "Python 3",
   "language": "python",
   "name": "python3"
  },
  "language_info": {
   "codemirror_mode": {
    "name": "ipython",
    "version": 3
   },
   "file_extension": ".py",
   "mimetype": "text/x-python",
   "name": "python",
   "nbconvert_exporter": "python",
   "pygments_lexer": "ipython3",
   "version": "3.8.8"
  }
 },
 "nbformat": 4,
 "nbformat_minor": 5
}
