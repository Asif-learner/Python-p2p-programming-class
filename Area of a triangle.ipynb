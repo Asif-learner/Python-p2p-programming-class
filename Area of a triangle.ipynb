{
 "cells": [
  {
   "cell_type": "markdown",
   "id": "05ab4d93",
   "metadata": {},
   "source": [
    "# Area of triangle by using base and height"
   ]
  },
  {
   "cell_type": "code",
   "execution_count": 2,
   "id": "e43c93f5",
   "metadata": {},
   "outputs": [
    {
     "name": "stdout",
     "output_type": "stream",
     "text": [
      "Enter the base :4\n",
      "Enter the height :5\n",
      "10.0\n"
     ]
    }
   ],
   "source": [
    "base = int(input(\"Enter the base :\"))\n",
    "height = int(input(\"Enter the height :\"))\n",
    "\n",
    "area  = 1/2 * base * height\n",
    "print(area)"
   ]
  },
  {
   "cell_type": "markdown",
   "id": "904ad189",
   "metadata": {},
   "source": [
    "# Area of triangle using heron's formula"
   ]
  },
  {
   "cell_type": "code",
   "execution_count": 4,
   "id": "726f5b2c",
   "metadata": {},
   "outputs": [
    {
     "name": "stdout",
     "output_type": "stream",
     "text": [
      "Enter length of first side of triangle :1\n",
      "Enter length of Second side of triangle :3\n",
      "Enter length of Third side of triangle :3\n",
      "1.479019945774904\n"
     ]
    }
   ],
   "source": [
    "a  = int (input(\"Enter length of first side of triangle :\"))\n",
    "b  = int (input(\"Enter length of Second side of triangle :\"))\n",
    "c  = int (input(\"Enter length of Third side of triangle :\"))\n",
    "\n",
    "s = (a+b+c)/2  # semi perimeter\n",
    "\n",
    "area = (s * (s-a) * (s-b) * (s-c) )**0.5\n",
    "\n",
    "print(area)\n",
    "\n"
   ]
  },
  {
   "cell_type": "markdown",
   "id": "44b8dcc4",
   "metadata": {},
   "source": [
    "# Area of triangle using trigonometry"
   ]
  },
  {
   "cell_type": "code",
   "execution_count": 9,
   "id": "89dda4bc",
   "metadata": {},
   "outputs": [
    {
     "name": "stdout",
     "output_type": "stream",
     "text": [
      "enter first side1\n",
      "enter adjacent side3\n",
      "enter the angle in between60\n",
      "1.0471975511965976\n",
      "3.8971143170299736\n"
     ]
    }
   ],
   "source": [
    "import math\n",
    "a = int (input(\"enter first side\"))\n",
    "b = int (input(\"enter adjacent side\"))\n",
    "angle = int (input(\"enter the angle in between\"))\n",
    "\n",
    "angle =  math.radians(angle)\n",
    "print(angle)\n",
    "\n",
    "area = ((b*c)/2)*math.sin(angle)\n",
    "\n",
    "print(area)"
   ]
  },
  {
   "cell_type": "code",
   "execution_count": null,
   "id": "e1bd5b02",
   "metadata": {},
   "outputs": [],
   "source": []
  }
 ],
 "metadata": {
  "kernelspec": {
   "display_name": "Python 3",
   "language": "python",
   "name": "python3"
  },
  "language_info": {
   "codemirror_mode": {
    "name": "ipython",
    "version": 3
   },
   "file_extension": ".py",
   "mimetype": "text/x-python",
   "name": "python",
   "nbconvert_exporter": "python",
   "pygments_lexer": "ipython3",
   "version": "3.8.8"
  }
 },
 "nbformat": 4,
 "nbformat_minor": 5
}
