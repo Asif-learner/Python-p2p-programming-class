{
 "cells": [
  {
   "cell_type": "code",
   "execution_count": 2,
   "id": "1d69ef36",
   "metadata": {},
   "outputs": [
    {
     "name": "stdout",
     "output_type": "stream",
     "text": [
      "2\n",
      "1\n",
      "Sum of numbers = 3 \n",
      "difference of numbers = 1 \n",
      "multiplication of numbers = 2 \n",
      "integer division of numbers = 2\n"
     ]
    }
   ],
   "source": [
    "x = int(input())\n",
    "y = int(input())\n",
    "\n",
    "print(\"Sum of numbers =\", x+y,\"\\ndifference of numbers =\", x-y,\"\\nmultiplication of numbers =\", x*y,\"\\ninteger division of numbers =\",x//y)"
   ]
  },
  {
   "cell_type": "code",
   "execution_count": null,
   "id": "27d6c0fd",
   "metadata": {},
   "outputs": [],
   "source": []
  }
 ],
 "metadata": {
  "kernelspec": {
   "display_name": "Python 3",
   "language": "python",
   "name": "python3"
  },
  "language_info": {
   "codemirror_mode": {
    "name": "ipython",
    "version": 3
   },
   "file_extension": ".py",
   "mimetype": "text/x-python",
   "name": "python",
   "nbconvert_exporter": "python",
   "pygments_lexer": "ipython3",
   "version": "3.8.8"
  }
 },
 "nbformat": 4,
 "nbformat_minor": 5
}
